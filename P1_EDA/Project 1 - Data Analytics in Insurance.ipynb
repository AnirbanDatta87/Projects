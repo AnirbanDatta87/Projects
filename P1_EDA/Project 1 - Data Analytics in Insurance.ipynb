{
 "cells": [
  {
   "cell_type": "markdown",
   "metadata": {},
   "source": [
    "# Introduction: Data Analytics in Insurance\n",
    "Emerging technologies like AI, Machine Learning, Block Chain, Cloud Computing and Big Data Analytics have brought a radical change in today's global financial landscape. As traditional business models adapt and evolve to harness the promise of these technologies, and the barriers between various 'specialized' domains across industries slowly dissolve, more and more industries are adopting a Digital Transformation Strategy. Insurance is no exception.\n",
    "\n",
    "The Insurance business is no stranger to data driven decision making. Yet AI and Big Data are revolutionizing the industry. "
   ]
  }
 ],
 "metadata": {
  "kernelspec": {
   "display_name": "Python 3",
   "language": "python",
   "name": "python3"
  },
  "language_info": {
   "codemirror_mode": {
    "name": "ipython",
    "version": 3
   },
   "file_extension": ".py",
   "mimetype": "text/x-python",
   "name": "python",
   "nbconvert_exporter": "python",
   "pygments_lexer": "ipython3",
   "version": "3.7.4"
  }
 },
 "nbformat": 4,
 "nbformat_minor": 2
}
