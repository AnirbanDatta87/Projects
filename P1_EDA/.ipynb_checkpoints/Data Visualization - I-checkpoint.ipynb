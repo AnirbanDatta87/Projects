{
 "cells": [
  {
   "cell_type": "markdown",
   "metadata": {},
   "source": [
    "# Data Visualization"
   ]
  },
  {
   "cell_type": "markdown",
   "metadata": {},
   "source": [
    "## Reference:\n",
    " - 1. Book: McKinney, p251\n",
    " - 2. Book: Nelli, p231 [3D Plots]\n",
    " - 3. [Seaborn Tutorial](http://seaborn.pydata.org/tutorial.html)\n",
    " - 4. [Pareto Plot](https://stackoverflow.com/questions/53577630/how-to-make-pareto-chart-in-python)\n",
    " - 5. [Python Data Science Handbook](https://jakevdp.github.io/PythonDataScienceHandbook/05.13-kernel-density-estimation.html)"
   ]
  },
  {
   "cell_type": "code",
   "execution_count": null,
   "metadata": {},
   "outputs": [],
   "source": [
    "import numpy as np\n",
    "import pandas as pd\n",
    "import matplotlib.pyplot as plt\n",
    "import seaborn as sns\n",
    "import warnings\n",
    "import random\n",
    "\n",
    "pd.plotting.register_matplotlib_converters()\n",
    "%matplotlib inline\n",
    "plt.style.use('seaborn-whitegrid')\n",
    "pd.set_option('display.max_columns', 500)\n",
    "warnings.filterwarnings(\"ignore\")"
   ]
  },
  {
   "cell_type": "code",
   "execution_count": null,
   "metadata": {
    "scrolled": true
   },
   "outputs": [],
   "source": [
    "mydata = pd.read_csv('insurance.csv')\n",
    "mydata.head()"
   ]
  },
  {
   "cell_type": "code",
   "execution_count": null,
   "metadata": {
    "scrolled": true
   },
   "outputs": [],
   "source": [
    "data = np.arange(10)\n",
    "plt.plot(data)"
   ]
  },
  {
   "cell_type": "markdown",
   "metadata": {},
   "source": [
    "Plots in matplotlib reside within a <code>Figure</code> object. You can create a new figure with <code>plt.figure</code>:"
   ]
  },
  {
   "cell_type": "code",
   "execution_count": null,
   "metadata": {},
   "outputs": [],
   "source": [
    "fig = plt.figure(figsize = (10, 6))\n",
    "ax1 = fig.add_subplot(2, 2, 1)\n",
    "ax2 = fig.add_subplot(2, 2, 2)\n",
    "ax3 = fig.add_subplot(2, 2, 3)\n",
    "ax4 = fig.add_subplot(2, 2, 4)\n",
    "\n",
    "\n",
    "# _ = ax1.hist(np.random.randn(100), bins=20, color='r', alpha=0.3)\n",
    "ax1.hist(np.random.randn(100), bins=20, color='r', alpha=0.3)\n",
    "ax2.scatter(np.arange(30), np.arange(30) + 3 * np.random.randn(30))\n",
    "ax3.bar(np.arange(30), np.random.randn(30))\n",
    "plt.plot(np.random.randn(50).cumsum(), 'k--')"
   ]
  },
  {
   "cell_type": "code",
   "execution_count": null,
   "metadata": {},
   "outputs": [],
   "source": [
    "pd.crosstab(mydata['sex'],mydata['smoker'], margins = True )"
   ]
  },
  {
   "cell_type": "markdown",
   "metadata": {},
   "source": [
    "### Reference:\n",
    "1. [Seaborn Countplot](https://seaborn.pydata.org/generated/seaborn.countplot.html)"
   ]
  },
  {
   "cell_type": "code",
   "execution_count": null,
   "metadata": {},
   "outputs": [],
   "source": [
    "# Quickly check seaborn version\n",
    "sns.__version__"
   ]
  },
  {
   "cell_type": "code",
   "execution_count": null,
   "metadata": {
    "scrolled": false
   },
   "outputs": [],
   "source": [
    "sns.countplot(x = 'sex', hue = 'smoker', hue_order = ['no', 'yes'], palette = 'gnuplot2', data = mydata)"
   ]
  },
  {
   "cell_type": "code",
   "execution_count": null,
   "metadata": {
    "scrolled": true
   },
   "outputs": [],
   "source": [
    "mydata.info()"
   ]
  },
  {
   "cell_type": "code",
   "execution_count": null,
   "metadata": {
    "scrolled": false
   },
   "outputs": [],
   "source": [
    "data = mydata\n",
    "def summary(x):\n",
    "    x_min = data[x].min()\n",
    "    x_max = data[x].max()\n",
    "    Q1 = data[x].quantile(0.25)\n",
    "    Q2 = data[x].quantile(0.50)\n",
    "    Q3 = data[x].quantile(0.75)\n",
    "    print(f'{x.capitalize()} Desciption:\\n'\n",
    "          f'{x.capitalize()}(min) : {x_min}\\n'\n",
    "          f'Q1     : {Q1}\\n'\n",
    "          f'Q2     : {Q2}\\n'\n",
    "          f'Q3     : {Q3}\\n'\n",
    "          f'{x.capitalize()}(max) : {x_max}')\n",
    "\n",
    "    fig = plt.figure(figsize=(16, 10))\n",
    "    plt.subplots_adjust(hspace = 0.6)\n",
    "    sns.set_palette('pastel')\n",
    "    \n",
    "    plt.subplot(221)\n",
    "    ax1 = sns.distplot(data[x], color = 'r')\n",
    "    plt.title(f'{x.capitalize()} Distribution')\n",
    "    \n",
    "    plt.subplot(222)\n",
    "    ax2 = sns.violinplot(x = data[x], palette = 'Accent', split = True)\n",
    "    plt.title(f'{x.capitalize()} Distribution')\n",
    "    \n",
    "    plt.subplot(223)\n",
    "    ax2 = sns.boxplot(x=data[x], palette = 'cool', width=0.7, linewidth=0.6)\n",
    "    plt.title(f'{x.capitalize()} Distribution')\n",
    "    \n",
    "    plt.subplot(224)\n",
    "    ax3 = sns.kdeplot(data[x], cumulative=True)\n",
    "    plt.title(f'{x.capitalize()} Cumulative Density Distribution')\n",
    "    \n",
    "    plt.show()\n",
    "    \n",
    "summary('charges')"
   ]
  },
  {
   "cell_type": "code",
   "execution_count": null,
   "metadata": {
    "scrolled": false
   },
   "outputs": [],
   "source": [
    "summary('bmi')"
   ]
  },
  {
   "cell_type": "markdown",
   "metadata": {},
   "source": [
    "For line plots, you will notice that subsequent points are linearly interpolated bydefault. This can be altered with the <code>drawstyle</code> option:"
   ]
  },
  {
   "cell_type": "code",
   "execution_count": null,
   "metadata": {},
   "outputs": [],
   "source": [
    "data = np.random.randn(30).cumsum()\n",
    "fig = plt.figure(figsize=(8, 6))\n",
    "plt.plot(data, 'k--', label='Default', color = 'salmon')\n",
    "plt.plot(data, 'k-', drawstyle='steps-post', label='steps-post', color = 'darkviolet')\n",
    "plt.legend(loc='best')"
   ]
  },
  {
   "cell_type": "markdown",
   "metadata": {},
   "source": [
    "## Annotating Plots:\n",
    "Reference: \n",
    " - 1. [MPL Annotations](https://matplotlib.org/tutorials/text/annotations.html)\n",
    " - 2. [Annotated Boxplots](https://stackoverflow.com/questions/40813813/have-boxplot-want-to-label-median-and-whiskers-with-values)\n",
    " - 3. [pd.df.boxplot()](https://pandas.pydata.org/pandas-docs/stable/reference/api/pandas.DataFrame.boxplot.html)\n",
    " - 4. [plt.boxplot()](https://matplotlib.org/api/_as_gen/matplotlib.pyplot.boxplot.html#matplotlib.pyplot.boxplot)\n",
    " - 5. [plt.boxplot() Demo](https://matplotlib.org/gallery/pyplots/boxplot_demo_pyplot.html#sphx-glr-gallery-pyplots-boxplot-demo-pyplot-py)\n",
    " - 6. [Seaborn boxplot annotation](https://stackoverflow.com/questions/38649501/labeling-boxplot-in-seaborn-with-median-value)"
   ]
  },
  {
   "cell_type": "code",
   "execution_count": null,
   "metadata": {},
   "outputs": [],
   "source": [
    "import string\n",
    "\n",
    "def get_x_tick_labels(df, grouped_by):\n",
    "    tmp = df.groupby([grouped_by]).size()\n",
    "    return [\"{0}: {1}\".format(k,v) for k, v in tmp.to_dict().items()]\n",
    "\n",
    "def series_values_as_dict(series_object):\n",
    "    tmp = series_object.to_dict().values()\n",
    "    return [y for y in tmp][0]\n",
    "\n",
    "def generate_dataframe():\n",
    "    # Create a pandas dataframe...\n",
    "    _likes = [random.randint(0,300) for _ in range(100)]\n",
    "    _type = [random.choice(string.ascii_uppercase[:5]) for _ in range(100)]\n",
    "    _shares = [random.randint(0,100) for _ in range(100)]\n",
    "    return pd.DataFrame(\n",
    "        {'Likes': _likes,\n",
    "         'Type': _type,\n",
    "         'shares': _shares\n",
    "        })\n",
    "\n",
    "def add_values(bp, ax):\n",
    "    \"\"\" This actually adds the numbers to the various points of the boxplots\"\"\"\n",
    "    for element in ['whiskers', 'medians', 'caps']:\n",
    "        for line in bp[element]:\n",
    "            # Get the position of the element. y is the label you want\n",
    "            (x_l, y),(x_r, _) = line.get_xydata()\n",
    "            # Make sure datapoints exist \n",
    "            # (I've been working with intervals, should not be problem for this case)\n",
    "            if not np.isnan(y): \n",
    "                x_line_center = x_l + (x_r - x_l)/2\n",
    "                y_line_center = y  # Since it's a line and it's horisontal\n",
    "                # overlay the value:  on the line, from center to right\n",
    "                ax.text(x_line_center, y_line_center, # Position\n",
    "                        '%.3f' % y, # Value (3f = 3 decimal float)\n",
    "                        verticalalignment='center', # Centered vertically with line \n",
    "                        fontsize=16, backgroundcolor=\"white\")\n",
    "\n",
    "posts_by_type = generate_dataframe()\n",
    "\n",
    "\n",
    "fig, axes = plt.subplots(1, figsize=(20, 10))\n",
    "\n",
    "bp_series = posts_by_type.boxplot(column='Likes', by='Type', \n",
    "                                  grid=True, figsize=(25, 10), \n",
    "                                  ax=axes, return_type='dict')\n",
    "# This should return a dict, but gives me a Series object, soo...\n",
    "bp_dict = series_values_as_dict(bp_series)\n",
    "#Now add the values\n",
    "add_values(bp_dict, axes)\n",
    "# Set a label on X-axis for each boxplot\n",
    "labels = get_x_tick_labels(posts_by_type, 'Type')\n",
    "plt.xticks(range(1, len(labels) + 1), labels)\n",
    "# Change some other texts on the graphs?\n",
    "plt.title('Likes per type of post', fontsize=22)\n",
    "plt.xlabel('Type', fontsize=18)\n",
    "plt.ylabel('Likes', fontsize=18)\n",
    "plt.suptitle('This is a pretty graph')\n",
    "plt.show()"
   ]
  },
  {
   "cell_type": "code",
   "execution_count": null,
   "metadata": {
    "scrolled": false
   },
   "outputs": [],
   "source": [
    "def add_values(bp, ax):\n",
    "    \"\"\" This actually adds the numbers to the various points of the boxplots\"\"\"\n",
    "    for element in ['whiskers', 'medians', 'caps']:\n",
    "        for line in bp[element]:\n",
    "            # Get the position of the element. y is the label you want\n",
    "            (x_l, y),(x_r, _) = line.get_xydata()\n",
    "            # Make sure datapoints exist \n",
    "            # (I've been working with intervals, should not be problem for this case)\n",
    "            if not np.isnan(y): \n",
    "                x_line_center = x_l + (x_r - x_l)/2\n",
    "                y_line_center = y  # Since it's a line and it's horisontal\n",
    "                # overlay the value:  on the line, from center to right\n",
    "                ax.text(x_line_center, y_line_center, # Position\n",
    "                        '%.3f' % y, # Value (3f = 3 decimal float)\n",
    "                        verticalalignment='center', # Centered vertically with line \n",
    "                        fontsize=12, backgroundcolor=\"white\")\n",
    "\n",
    "fig, axes = plt.subplots(1, figsize=(4, 8))\n",
    "\n",
    "red_diamond = dict(markerfacecolor='r', marker='D')\n",
    "\n",
    "bp_dict = mydata.boxplot(column = 'charges', \n",
    "                         grid=True, \n",
    "                         figsize=(4, 8), \n",
    "                         ax=axes, \n",
    "                         vert = True, \n",
    "                         notch=False, \n",
    "                         widths = 0.7, \n",
    "                         showmeans = True, \n",
    "                         whis = 1.5,\n",
    "                         flierprops = red_diamond,\n",
    "                         boxprops= dict(linewidth=3.0, color='black'),\n",
    "                         whiskerprops=dict(linewidth=3.0, color='black'),\n",
    "                         return_type = 'dict')\n",
    "\n",
    "add_values(bp_dict, axes)\n",
    "\n",
    "plt.title('Charges Boxplot', fontsize=22)\n",
    "plt.ylabel('Charges', fontsize=18)\n",
    "plt.show()"
   ]
  },
  {
   "cell_type": "code",
   "execution_count": null,
   "metadata": {
    "scrolled": false
   },
   "outputs": [],
   "source": [
    "def add_values(bp, ax):\n",
    "    \"\"\" This actually adds the numbers to the various points of the boxplots\"\"\"\n",
    "    for element in ['whiskers', 'medians', 'caps']:\n",
    "        for line in bp[element]:\n",
    "            # Get the position of the element. y is the label you want\n",
    "            (x_l, y),(x_r, _) = line.get_xydata()\n",
    "            # Make sure datapoints exist \n",
    "            # (I've been working with intervals, should not be problem for this case)\n",
    "            if not np.isnan(y): \n",
    "                x_line_center = x_l + (x_r - x_l)/2\n",
    "                y_line_center = y  # Since it's a line and it's horisontal\n",
    "                # overlay the value:  on the line, from center to right\n",
    "                ax.text(x_line_center, y_line_center, # Position\n",
    "                        '%.3f' % y, # Value (3f = 3 decimal float)\n",
    "                        verticalalignment='center', # Centered vertically with line \n",
    "                        fontsize=12, backgroundcolor=\"white\")\n",
    "\n",
    "fig, axes = plt.subplots(1, figsize=(4, 8))\n",
    "\n",
    "red_diamond = dict(markerfacecolor='r', marker='D')\n",
    "\n",
    "bp_dict = mydata.boxplot(column = 'bmi', \n",
    "                         grid=True, \n",
    "                         figsize=(4, 8), \n",
    "                         ax=axes, \n",
    "                         vert = True, \n",
    "                         notch=False, \n",
    "                         widths = 0.7, \n",
    "                         showmeans = True, \n",
    "                         whis = 1.5,\n",
    "                         flierprops = red_diamond,\n",
    "                         boxprops= dict(linewidth=3.0, color='black'),\n",
    "                         whiskerprops=dict(linewidth=3.0, color='black'),\n",
    "                         return_type = 'dict')\n",
    "\n",
    "add_values(bp_dict, axes)\n",
    "\n",
    "plt.title('BMI Boxplot', fontsize=22)\n",
    "plt.ylabel('BMI', fontsize=18)\n",
    "plt.show()"
   ]
  },
  {
   "cell_type": "code",
   "execution_count": null,
   "metadata": {},
   "outputs": [],
   "source": [
    "def summary_stats(x = 'bmi'):\n",
    "    def add_values(bp, ax):\n",
    "        \"\"\" This actually adds the numbers to the various points of the boxplots\"\"\"\n",
    "        for element in ['whiskers', 'medians', 'caps']:\n",
    "            for line in bp[element]:\n",
    "                # Get the position of the element. y is the label you want\n",
    "                (x_l, y),(x_r, _) = line.get_xydata()\n",
    "                # Make sure datapoints exist \n",
    "                # (I've been working with intervals, should not be problem for this case)\n",
    "                if not np.isnan(y): \n",
    "                    x_line_center = x_l + (x_r - x_l)/2\n",
    "                    y_line_center = y  # Since it's a line and it's horisontal\n",
    "                    # overlay the value:  on the line, from center to right\n",
    "                    ax.text(x_line_center, y_line_center, # Position\n",
    "                            '%.3f' % y, # Value (3f = 3 decimal float)\n",
    "                            verticalalignment='center', # Centered vertically with line \n",
    "                            fontsize=12, backgroundcolor=\"white\")\n",
    "\n",
    "    fig, axes = plt.subplots(1, figsize=(4, 8))\n",
    "\n",
    "    red_diamond = dict(markerfacecolor='r', marker='D')\n",
    "\n",
    "    bp_dict = mydata.boxplot(column = x, \n",
    "                             grid=True, \n",
    "                             figsize=(4, 8), \n",
    "                             ax=axes, \n",
    "                             vert = True, \n",
    "                             notch=False, \n",
    "                             widths = 0.7, \n",
    "                             showmeans = True, \n",
    "                             whis = 1.5,\n",
    "                             flierprops = red_diamond,\n",
    "                             boxprops= dict(linewidth=3.0, color='black'),\n",
    "                             whiskerprops=dict(linewidth=3.0, color='black'),\n",
    "                             return_type = 'dict')\n",
    "\n",
    "    add_values(bp_dict, axes)\n",
    "\n",
    "    plt.title(f'{x.upper()} Boxplot', fontsize=22)\n",
    "    plt.ylabel(f'{x.upper()}', fontsize=18)\n",
    "    plt.show()"
   ]
  },
  {
   "cell_type": "code",
   "execution_count": null,
   "metadata": {
    "scrolled": false
   },
   "outputs": [],
   "source": [
    "summary_stats('charges')"
   ]
  },
  {
   "cell_type": "code",
   "execution_count": null,
   "metadata": {},
   "outputs": [],
   "source": [
    "mydata.head()"
   ]
  },
  {
   "cell_type": "markdown",
   "metadata": {},
   "source": [
    "### <font color = 'red'>Q1: Charges of Smoner / Non - Smoker</font>"
   ]
  },
  {
   "cell_type": "code",
   "execution_count": null,
   "metadata": {
    "scrolled": true
   },
   "outputs": [],
   "source": [
    "pd.pivot_table(mydata, index = ['smoker']).round(2)"
   ]
  },
  {
   "cell_type": "code",
   "execution_count": null,
   "metadata": {},
   "outputs": [],
   "source": [
    "mydata.groupby(['smoker', 'sex']).mean().round(2)"
   ]
  },
  {
   "cell_type": "code",
   "execution_count": null,
   "metadata": {},
   "outputs": [],
   "source": [
    "cat1 = mydata[mydata['smoker']=='no']\n",
    "cat2 = mydata[mydata['smoker']=='yes']\n",
    "cat1.head()"
   ]
  },
  {
   "cell_type": "code",
   "execution_count": null,
   "metadata": {},
   "outputs": [],
   "source": [
    "var_smoker = np.var(cat2['charges'], ddof = 1)\n",
    "print(var_smoker)\n",
    "sns.distplot(cat2['charges'])"
   ]
  },
  {
   "cell_type": "code",
   "execution_count": null,
   "metadata": {},
   "outputs": [],
   "source": [
    "var_non_smoker = np.var(cat1['charges'], ddof = 1)\n",
    "print('var_non_smoker')\n",
    "sns.distplot(cat1['charges'])"
   ]
  },
  {
   "cell_type": "markdown",
   "metadata": {},
   "source": [
    "### References:\n",
    " - 1. [Ref 1](https://stackoverflow.com/questions/13404468/t-test-in-pandas)\n",
    " - 2. [Ref 2](https://stats.stackexchange.com/questions/305/when-conducting-a-t-test-why-would-one-prefer-to-assume-or-test-for-equal-vari)\n",
    " - 3. [Ref 3](https://stackoverflow.com/questions/41204400/what-is-the-difference-between-numpy-var-and-statistics-variance-in-python)"
   ]
  },
  {
   "cell_type": "code",
   "execution_count": null,
   "metadata": {},
   "outputs": [],
   "source": [
    "from scipy.stats import ttest_ind\n",
    "ttest_ind(cat1['charges'], cat2['charges'], equal_var=False)"
   ]
  },
  {
   "cell_type": "code",
   "execution_count": null,
   "metadata": {},
   "outputs": [],
   "source": [
    "5.88946444671698e-103 > 0.05"
   ]
  },
  {
   "cell_type": "markdown",
   "metadata": {},
   "source": [
    "### <font color = 'red'>Q2: BMI of males / females</font>"
   ]
  },
  {
   "cell_type": "code",
   "execution_count": null,
   "metadata": {},
   "outputs": [],
   "source": [
    "cat1 = mydata[mydata['sex']=='male']\n",
    "cat2 = mydata[mydata['sex']=='female']\n",
    "cat1.head()"
   ]
  },
  {
   "cell_type": "code",
   "execution_count": null,
   "metadata": {},
   "outputs": [],
   "source": [
    "cat2.head()"
   ]
  },
  {
   "cell_type": "code",
   "execution_count": null,
   "metadata": {},
   "outputs": [],
   "source": [
    "fig = plt.figure(figsize=(16, 6))\n",
    "plt.subplots_adjust(hspace = 0.5)\n",
    "sns.set_palette('pastel')\n",
    "\n",
    "plt.subplot(121)\n",
    "ax1 = sns.distplot(cat1['bmi'], color = 'r')\n",
    "plt.title(f'BMI Distribution Male')\n",
    "\n",
    "plt.subplot(122)\n",
    "ax1 = sns.distplot(cat2['bmi'], color = 'b')\n",
    "plt.title(f'BMI Distribution Female')\n",
    "\n",
    "plt.show()"
   ]
  },
  {
   "cell_type": "markdown",
   "metadata": {},
   "source": [
    "### Reference:\n",
    "1. [Plotting Multiple Distributions](https://stackoverflow.com/questions/46045750/python-distplot-with-multiple-distributions)"
   ]
  },
  {
   "cell_type": "code",
   "execution_count": null,
   "metadata": {},
   "outputs": [],
   "source": [
    "from scipy import stats\n",
    "x = np.random.normal(0, 1, size=30)\n",
    "bandwidth = 1.06 * x.std() * x.size ** (-1 / 5.)\n",
    "support = np.linspace(-4, 4, 200)\n",
    "\n",
    "kernels = []\n",
    "for x_i in x:\n",
    "\n",
    "    kernel = stats.norm(x_i, bandwidth).pdf(support)\n",
    "    kernels.append(kernel)\n",
    "    plt.plot(support, kernel, color=\"salmon\")"
   ]
  },
  {
   "cell_type": "code",
   "execution_count": null,
   "metadata": {},
   "outputs": [],
   "source": [
    "from sklearn.datasets import load_iris\n",
    "iris = load_iris()\n",
    "iris = pd.DataFrame(data=np.c_[iris['data'], iris['target']],\n",
    "                    columns=iris['feature_names'] + ['target'])\n",
    "\n",
    "# Sort the dataframe by target\n",
    "target_0 = iris.loc[iris['target'] == 0]\n",
    "target_1 = iris.loc[iris['target'] == 1]\n",
    "target_2 = iris.loc[iris['target'] == 2]\n",
    "\n",
    "sns.distplot(target_0[['sepal length (cm)']], hist=False)\n",
    "sns.distplot(target_1[['sepal length (cm)']], hist=False)\n",
    "sns.distplot(target_2[['sepal length (cm)']], hist=False)\n",
    "\n",
    "plt.show()"
   ]
  },
  {
   "cell_type": "code",
   "execution_count": null,
   "metadata": {},
   "outputs": [],
   "source": [
    "var_bmi_male = np.var(cat1['bmi'], ddof = 1)\n",
    "print(var_bmi_male)"
   ]
  },
  {
   "cell_type": "code",
   "execution_count": null,
   "metadata": {
    "scrolled": true
   },
   "outputs": [],
   "source": [
    "var_bmi_female = np.var(cat2['bmi'], ddof = 1)\n",
    "print(var_bmi_female)"
   ]
  },
  {
   "cell_type": "code",
   "execution_count": null,
   "metadata": {},
   "outputs": [],
   "source": [
    "ttest_ind(cat1['bmi'], cat2['bmi'], equal_var=False)"
   ]
  },
  {
   "cell_type": "markdown",
   "metadata": {},
   "source": [
    "### <font color = 'red'>Q3: Proportion of Smokers in Male and Female</font>\n",
    "* 'sex' and 'smoker' are two categorical variables\n",
    "* We want to see if the proportion of smokers in the female population is significantly less than it is in the male population\n",
    "\n",
    "#### Ho = The proportions are equal\n",
    "#### Ha = The two proportions are not equal"
   ]
  },
  {
   "cell_type": "code",
   "execution_count": null,
   "metadata": {},
   "outputs": [],
   "source": [
    "df = mydata\n",
    "df.head()"
   ]
  },
  {
   "cell_type": "code",
   "execution_count": null,
   "metadata": {},
   "outputs": [],
   "source": [
    "sns.countplot(y = 'sex', hue = 'smoker', hue_order = ['no', 'yes'], data = mydata)"
   ]
  },
  {
   "cell_type": "code",
   "execution_count": null,
   "metadata": {},
   "outputs": [],
   "source": [
    "female_smokers = df[df['sex'] == 'female'].smoker.value_counts()[1]  # number of female smokers\n",
    "male_smokers = df[df['sex'] == 'male'].smoker.value_counts()[1] # number of male smokers\n",
    "n_females = df.sex.value_counts()[1] # number of females in the data\n",
    "n_males = df.sex.value_counts()[0] #number of males in the data\n",
    "\n",
    "print([female_smokers, male_smokers] , [n_females, n_males])\n",
    "print(f' Proportion of smokers in females, males = {round(115/662,2)}%, {round(159/676,2)}% respectively')"
   ]
  },
  {
   "cell_type": "markdown",
   "metadata": {},
   "source": [
    "The proportions are different but are they statistically significant?"
   ]
  },
  {
   "cell_type": "code",
   "execution_count": null,
   "metadata": {},
   "outputs": [],
   "source": [
    "from statsmodels.stats.proportion import proportions_ztest\n",
    "\n",
    "stat, pval = proportions_ztest([female_smokers, male_smokers] , [n_females, n_males])\n",
    "\n",
    "if pval < 0.05:\n",
    "    print(f'With a p-value of {round(pval,4)} the difference is significant. aka |We reject the null|')\n",
    "else:\n",
    "    print(f'With a p-value of {round(pval,4)} the difference is not significant. aka |We fail to reject the null|')"
   ]
  },
  {
   "cell_type": "markdown",
   "metadata": {},
   "source": [
    "### <font color = 'red'>Q4: Dist of BMI across Women with 0, 1, 2 or 3 Children</font>"
   ]
  },
  {
   "cell_type": "code",
   "execution_count": null,
   "metadata": {},
   "outputs": [],
   "source": [
    "mydata.head()"
   ]
  },
  {
   "cell_type": "code",
   "execution_count": null,
   "metadata": {},
   "outputs": [],
   "source": [
    "df2 = mydata[mydata['sex'] == 'female']\n",
    "df2.head()"
   ]
  },
  {
   "cell_type": "code",
   "execution_count": null,
   "metadata": {},
   "outputs": [],
   "source": [
    "len(df2)"
   ]
  },
  {
   "cell_type": "code",
   "execution_count": null,
   "metadata": {},
   "outputs": [],
   "source": [
    "female = df2[['bmi']].groupby(df['children']).count()\n",
    "print(type(female))\n",
    "female"
   ]
  },
  {
   "cell_type": "code",
   "execution_count": null,
   "metadata": {},
   "outputs": [],
   "source": [
    "female.sum()"
   ]
  },
  {
   "cell_type": "code",
   "execution_count": null,
   "metadata": {
    "scrolled": false
   },
   "outputs": [],
   "source": [
    "df3 = df2[df2['children'] <= 2 ]\n",
    "df3.head()"
   ]
  },
  {
   "cell_type": "code",
   "execution_count": null,
   "metadata": {},
   "outputs": [],
   "source": [
    "female = df3[['bmi']].groupby(df['children']).count()\n",
    "print(type(female))\n",
    "female"
   ]
  },
  {
   "cell_type": "code",
   "execution_count": null,
   "metadata": {},
   "outputs": [],
   "source": [
    "tips = sns.load_dataset(\"tips\")\n",
    "box_plot = sns.boxplot(x=\"day\",y=\"total_bill\",data=tips)\n",
    "\n",
    "medians = tips.groupby(['day'])['total_bill'].median()\n",
    "vertical_offset = tips['total_bill'].median() * 0.05 # offset from median for display\n",
    "\n",
    "for xtick in box_plot.get_xticks():\n",
    "    box_plot.text(xtick,medians[xtick] + vertical_offset,medians[xtick], \n",
    "            horizontalalignment='center',size='x-small',color='w',weight='semibold')"
   ]
  },
  {
   "cell_type": "code",
   "execution_count": null,
   "metadata": {
    "scrolled": false
   },
   "outputs": [],
   "source": [
    "fig = plt.figure(figsize=(12, 8))\n",
    "box_plot = sns.boxplot(x = \"children\", y = \"bmi\", data = df3, width = 0.6)\n",
    "\n",
    "medians = df3.groupby(['children'])['bmi'].median().round(2)\n",
    "vertical_offset = df3['bmi'].median() * 0.05 # offset from median for display\n",
    "\n",
    "medians\n",
    "for xtick in box_plot.get_xticks():\n",
    "    box_plot.text(xtick, medians[xtick] + vertical_offset,medians[xtick], \n",
    "            horizontalalignment='center',color='w',weight='semibold')\n",
    "\n",
    "\n",
    "plt.title('BMI by No. of children')\n",
    "plt.show()"
   ]
  },
  {
   "cell_type": "markdown",
   "metadata": {},
   "source": [
    "#### The boxplots show almost dissimilar shapes, location and spreads and there are some outlier values."
   ]
  },
  {
   "cell_type": "markdown",
   "metadata": {},
   "source": [
    "### Step 1: State the null and alternative hypothesis:\n",
    "\n",
    "* $H_0$: $\\mu1$ = $\\mu2$ = $\\mu3$\n",
    "* $H_A$: At least one $\\mu$ differs \n",
    "\n",
    "Here $\\mu1$, $\\mu2$ and $\\mu3$ are the mean pressure applied to the driver's head during crash test by Compact car, Midsize car and Full size car respectively.\n",
    "\n",
    "### Step 2: Decide the significance level\n",
    "\n",
    "Here we select α = 0.05"
   ]
  },
  {
   "cell_type": "markdown",
   "metadata": {},
   "source": [
    "### Step 3: Identify the test statistic\n",
    "\n",
    "Here we have 5 groups. Analysis of variance can determine whether the means of three or more groups are different. ANOVA uses F-tests to statistically test the equality of means.\n",
    "\n",
    "### Step 4: Calculate p value using ANOVA table\n",
    "* statsmodels.formula.api.ols creates a model from a formula and dataframe\n",
    "* statsmodels.api.sm.stats.anova_lm gives an Anova table for one or more fitted linear models"
   ]
  },
  {
   "cell_type": "code",
   "execution_count": null,
   "metadata": {},
   "outputs": [],
   "source": [
    "import statsmodels.api as sm\n",
    "from statsmodels.formula.api import ols\n",
    "\n",
    "mod = ols('bmi ~ children', data = df3).fit()\n",
    "aov_table = sm.stats.anova_lm(mod, typ=2)\n",
    "print(aov_table)"
   ]
  },
  {
   "cell_type": "markdown",
   "metadata": {},
   "source": [
    "### <font color = 'red'>Conclusion: We fail to reject the null hypothesis that for BMI for 3 groups of women having no, one or two children respectively, atleast one mean BMI is significantly different from the others.</font>"
   ]
  },
  {
   "cell_type": "markdown",
   "metadata": {},
   "source": [
    "### Determine which mean(s) is / are different\n",
    "\n",
    "* An ANOVA test will test that at least one mean is different. \n",
    "* We have falied to reject the null hypothesis but do not know which mean(s) is / are different.\n",
    "We use Tukey-krammer HSD test to detect which mean(s) is / are different."
   ]
  },
  {
   "cell_type": "code",
   "execution_count": null,
   "metadata": {},
   "outputs": [],
   "source": [
    "from statsmodels.stats.multicomp import pairwise_tukeyhsd\n",
    "print(pairwise_tukeyhsd(df3['bmi'], df3['children']))"
   ]
  },
  {
   "cell_type": "code",
   "execution_count": null,
   "metadata": {},
   "outputs": [],
   "source": []
  }
 ],
 "metadata": {
  "kernelspec": {
   "display_name": "Python 3",
   "language": "python",
   "name": "python3"
  },
  "language_info": {
   "codemirror_mode": {
    "name": "ipython",
    "version": 3
   },
   "file_extension": ".py",
   "mimetype": "text/x-python",
   "name": "python",
   "nbconvert_exporter": "python",
   "pygments_lexer": "ipython3",
   "version": "3.7.4"
  }
 },
 "nbformat": 4,
 "nbformat_minor": 2
}
